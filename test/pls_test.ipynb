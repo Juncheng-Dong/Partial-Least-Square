{
 "cells": [
  {
   "cell_type": "code",
   "execution_count": 1,
   "metadata": {},
   "outputs": [],
   "source": [
    "import pls\n",
    "import pandas as pd\n",
    "import numpy as np"
   ]
  },
  {
   "cell_type": "code",
   "execution_count": 2,
   "metadata": {},
   "outputs": [
    {
     "name": "stdout",
     "output_type": "stream",
     "text": [
      "True\n",
      "True\n"
     ]
    }
   ],
   "source": [
    "## Testing data import function read_data\n",
    "\n",
    "X,Y=pls.read_data('cars_pls_regression.xls',['conscity','price','symboling'])\n",
    "\n",
    "df= pd.read_excel('cars_pls_regression.xls')\n",
    "Yt = df[['conscity','price','symboling']]\n",
    "Xt = df[list(set(df.columns)-set(Yt.columns))]\n",
    "\n",
    "Xt.to_numpy()\n",
    "Yt.to_numpy()\n",
    "\n",
    "print(np.allclose(X,Xt))\n",
    "print(np.allclose(Y,Yt))\n"
   ]
  },
  {
   "cell_type": "code",
   "execution_count": 3,
   "metadata": {},
   "outputs": [],
   "source": [
    "## Testing init function\n",
    "regressor = pls.PLS(4)"
   ]
  },
  {
   "cell_type": "code",
   "execution_count": 4,
   "metadata": {},
   "outputs": [
    {
     "name": "stdout",
     "output_type": "stream",
     "text": [
      "Exception caught\n",
      "should not be an exception\n"
     ]
    }
   ],
   "source": [
    "## Testing when given data X has not less than given compoents number\n",
    "try:\n",
    "    regressor.fit(np.random.rand(3,3),np.random.rand(3,1))\n",
    "except:\n",
    "    print(\"Exception caught\")\n",
    "    \n",
    "try:\n",
    "    regressor.fit(np.random.rand(4,4),np.random.rand(4,1))\n",
    "except:\n",
    "    print(\"should not be an exception\")\n",
    "else:\n",
    "    print(\"No exception when dimension is correct\")"
   ]
  },
  {
   "cell_type": "code",
   "execution_count": 5,
   "metadata": {},
   "outputs": [
    {
     "name": "stdout",
     "output_type": "stream",
     "text": [
      "Exception is expected\n"
     ]
    }
   ],
   "source": [
    "## Testing when calling other function without training the model\n",
    "try:\n",
    "    regressor = pls.PLS(4)\n",
    "    regressor.predict(np.randon.rand(4,3))\n",
    "except:\n",
    "    print(\"Exception is expected\")\n",
    "else:\n",
    "    print(\"there should be an exception\")"
   ]
  },
  {
   "cell_type": "code",
   "execution_count": 6,
   "metadata": {},
   "outputs": [
    {
     "name": "stdout",
     "output_type": "stream",
     "text": [
      "excellent! no exception\n"
     ]
    }
   ],
   "source": [
    "## Testing other member functions\n",
    "try:\n",
    "    regressor = pls.PLS(3)\n",
    "    regressor.fit(np.random.rand(4,3),np.random.rand(4,3))\n",
    "    regressor.predict(np.random.rand(4,3))\n",
    "    regressor.get_b()\n",
    "    regressor.variance()\n",
    "    regressor.mse()\n",
    "except:\n",
    "    print(\"there should be no exception\")\n",
    "else:\n",
    "    print(\"excellent! no exception\")"
   ]
  }
 ],
 "metadata": {
  "kernelspec": {
   "display_name": "Python 3",
   "language": "python",
   "name": "python3"
  },
  "language_info": {
   "codemirror_mode": {
    "name": "ipython",
    "version": 3
   },
   "file_extension": ".py",
   "mimetype": "text/x-python",
   "name": "python",
   "nbconvert_exporter": "python",
   "pygments_lexer": "ipython3",
   "version": "3.7.6"
  }
 },
 "nbformat": 4,
 "nbformat_minor": 2
}
